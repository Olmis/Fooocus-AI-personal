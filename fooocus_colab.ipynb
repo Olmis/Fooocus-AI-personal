!pip install pygit2==1.15.1
%cd /content
!git clone https://github.com/lllyasviel/Fooocus.git

%cd /content/Fooocus/models/loras
!wget http://freepc2.no-ip.org/Pussy_Lily_v5_XL.safetensors

%cd /content/Fooocus
!python entry_with_update.py --share --always-high-vram
