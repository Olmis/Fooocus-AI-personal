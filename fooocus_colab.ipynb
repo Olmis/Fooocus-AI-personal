{
 "cells": [
  {
   "cell_type": "code",
   "execution_count": null,
   "metadata": {},
   "outputs": [],
   "source": [
    "!pip install pygit2==1.15.1\n",
    "%cd /content\n",
    "!git clone https://github.com/lllyasviel/Fooocus.git\n"
   ]
  },
  {
   "cell_type": "code",
   "execution_count": null,
   "metadata": {},
   "outputs": [],
   "source": [
    "%cd /content/Fooocus/models/loras\n",
    "!wget -O pussyLilyV5XL.YueS.safetensors https://huggingface.co/Olmis/normaluser/resolve/main/file0002.safetensors\n"
   ]
  },
  {
   "cell_type": "code",
   "execution_count": null,
   "metadata": {},
   "outputs": [],
   "source": [
    "%cd /content/Fooocus/models/loras\n",
    "!wget -O leaked_nudes_style_v1_fixed.safetensors https://huggingface.co/Olmis/normaluser/resolve/main/file0001.safetensors\n"
   ]
  },
  {
   "cell_type": "code",
   "execution_count": null,
   "metadata": {},
   "outputs": [],
   "source": [
    "%cd /content/Fooocus/models/loras\n",
    "!wget -O xpenis-uncut-3.2-000135.safetensors https://huggingface.co/Olmis/normaluser/resolve/main/file0004.safetensors\n"
   ]
  },
  {
   "cell_type": "code",
   "execution_count": null,
   "metadata": {},
   "outputs": [],
   "source": [
    "%cd /content/Fooocus/models/checkpoints\n",
    "!wget -O biglust.9RA2.safetensors https://huggingface.co/Olmis/normaluser/resolve/main/file0003.safetensors\n"
   ]
  },
  {
   "cell_type": "code",
   "execution_count": null,
   "metadata": {},
   "outputs": [],
   "source": [
    "%cd /content/Fooocus/models/loras\n",
    "!wget -O HandFineTuning_XL.safetensors https://huggingface.co/Olmis/normaluser/resolve/main/file0005.safetensors\n"
   ]
  },
  {
   "cell_type": "code",
   "execution_count": null,
   "metadata": {},
   "outputs": [],
   "source": [
    "%cd /content/Fooocus\n",
    "!python entry_with_update.py --share --always-high-vram\n"
   ]
  }
 ],
 "metadata": {
  "accelerator": "GPU",
  "colab": {
   "gpuType": "T4",
   "provenance": []
  },
  "kernelspec": {
   "display_name": "Python 3",
   "name": "python3"
  },
  "language_info": {
   "name": "python"
  }
 },
 "nbformat": 4,
 "nbformat_minor": 0
}
